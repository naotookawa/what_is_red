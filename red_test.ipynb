{
 "cells": [
  {
   "cell_type": "code",
   "execution_count": 1,
   "metadata": {},
   "outputs": [
    {
     "name": "stderr",
     "output_type": "stream",
     "text": [
      "2024-10-15 17:08:49.207 python[1250:7035993] _TIPropertyValueIsValid called with 4 on nil context!\n",
      "2024-10-15 17:08:49.207 python[1250:7035993] imkxpc_getApplicationProperty:reply: called with incorrect property value 4, bailing.\n",
      "2024-10-15 17:08:49.207 python[1250:7035993] Text input context does not respond to _valueForTIProperty:\n",
      "2024-10-15 17:08:49.218 python[1250:7035993] _TIPropertyValueIsValid called with 4 on nil context!\n",
      "2024-10-15 17:08:49.218 python[1250:7035993] imkxpc_getApplicationProperty:reply: called with incorrect property value 4, bailing.\n",
      "2024-10-15 17:08:49.218 python[1250:7035993] Text input context does not respond to _valueForTIProperty:\n"
     ]
    },
    {
     "name": "stdout",
     "output_type": "stream",
     "text": [
      "quit\n"
     ]
    }
   ],
   "source": [
    "import cv2\n",
    "import numpy as np\n",
    "import time\n",
    "\n",
    "image = cv2.imread('red.jpg')\n",
    "\n",
    "def red_hsv(image):\n",
    "    hsv_image = cv2.cvtColor(image, cv2.COLOR_BGR2HSV)\n",
    "\n",
    "\n",
    "    lower_red1 = np.array([0, 150, 0])\n",
    "    upper_red1 = np.array([10, 255, 255])\n",
    "    lower_red2 = np.array([160, 150, 0])\n",
    "    upper_red2 = np.array([180, 255, 255])\n",
    "\n",
    "    mask1 = cv2.inRange(hsv_image, lower_red1, upper_red1)\n",
    "    mask2 = cv2.inRange(hsv_image, lower_red2, upper_red2)\n",
    "    red_mask = mask1 | mask2\n",
    "\n",
    "    gray_image = cv2.cvtColor(image, cv2.COLOR_BGR2GRAY)\n",
    "\n",
    "    result = cv2.cvtColor(gray_image, cv2.COLOR_GRAY2BGR)\n",
    "    result[red_mask > 0] = image[red_mask > 0] \n",
    "\n",
    "    return result\n",
    "\n",
    "if __name__ == '__main__':\n",
    "    result = red_hsv(image)\n",
    "\n",
    "    start_time = time.time()\n",
    "\n",
    "    while True:\n",
    "        cv2.imshow('Original Image', image)\n",
    "        cv2.imshow('Red Extracted Image', result)\n",
    "\n",
    "        if (cv2.waitKey(100) & 0xFF == ord('q')) | (time.time() - start_time > 3):\n",
    "            break\n",
    "        \n",
    "\n",
    "    cv2.destroyAllWindows()\n",
    "    print('quit')"
   ]
  },
  {
   "cell_type": "code",
   "execution_count": 4,
   "metadata": {},
   "outputs": [
    {
     "data": {
      "text/plain": [
       "1729081182"
      ]
     },
     "execution_count": 4,
     "metadata": {},
     "output_type": "execute_result"
    }
   ],
   "source": [
    "import time\n",
    "import math\n",
    "\n",
    "math.ceil(time.time())"
   ]
  },
  {
   "cell_type": "code",
   "execution_count": 6,
   "metadata": {},
   "outputs": [
    {
     "data": {
      "text/plain": [
       "2"
      ]
     },
     "execution_count": 6,
     "metadata": {},
     "output_type": "execute_result"
    }
   ],
   "source": [
    "17 % 3"
   ]
  },
  {
   "cell_type": "code",
   "execution_count": null,
   "metadata": {},
   "outputs": [],
   "source": []
  }
 ],
 "metadata": {
  "kernelspec": {
   "display_name": "what_is_red",
   "language": "python",
   "name": "python3"
  },
  "language_info": {
   "codemirror_mode": {
    "name": "ipython",
    "version": 3
   },
   "file_extension": ".py",
   "mimetype": "text/x-python",
   "name": "python",
   "nbconvert_exporter": "python",
   "pygments_lexer": "ipython3",
   "version": "3.11.8"
  }
 },
 "nbformat": 4,
 "nbformat_minor": 2
}
